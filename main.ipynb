{
 "cells": [
  {
   "cell_type": "markdown",
   "metadata": {},
   "source": [
    "### Loading all the required modules"
   ]
  },
  {
   "cell_type": "code",
   "execution_count": 47,
   "metadata": {},
   "outputs": [],
   "source": [
    "import data_preprocessing\n",
    "import model\n",
    "from sklearn.model_selection import train_test_split\n",
    "import torch\n",
    "import torch.nn as nn\n",
    "import torch.nn.functional as F\n",
    "from torch.utils.data import DataLoader, TensorDataset\n",
    "import pandas as pd\n",
    "from torchsummary import summary\n",
    "import matplotlib.pyplot as plt\n",
    "from tqdm import tqdm\n",
    "import numpy as np\n",
    "from string import punctuation"
   ]
  },
  {
   "cell_type": "markdown",
   "metadata": {},
   "source": [
    "### Preprocessing the data"
   ]
  },
  {
   "cell_type": "code",
   "execution_count": 48,
   "metadata": {},
   "outputs": [
    {
     "data": {
      "text/plain": [
       "array([[   0,    0,    0, ...,    0,    1,  683],\n",
       "       [   0,    0,    0, ...,    1,  683,    4],\n",
       "       [   0,    0,    0, ...,  683,    4,   45],\n",
       "       ...,\n",
       "       [   0,    0,    0, ...,    4,   45, 1042],\n",
       "       [   0,    0,    0, ...,   45, 1042,    4],\n",
       "       [   0,    0,    0, ..., 1042,    4,  192]], shape=(25613, 14))"
      ]
     },
     "execution_count": 48,
     "metadata": {},
     "output_type": "execute_result"
    }
   ],
   "source": [
    "(data, vocab_size, tokenized_text, features) = data_preprocessing.load_data()\n",
    "data"
   ]
  },
  {
   "cell_type": "markdown",
   "metadata": {},
   "source": [
    "### Making the x, Y split"
   ]
  },
  {
   "cell_type": "code",
   "execution_count": 49,
   "metadata": {},
   "outputs": [],
   "source": [
    "y = data[:, -1]\n",
    "x = data[:, :-1]\n"
   ]
  },
  {
   "cell_type": "markdown",
   "metadata": {},
   "source": [
    "### Hyperparameters"
   ]
  },
  {
   "cell_type": "code",
   "execution_count": 50,
   "metadata": {},
   "outputs": [],
   "source": [
    "input_size = 128\n",
    "hidden_size = 256\n",
    "num_layers = 1\n",
    "num_classes = vocab_size\n",
    "learning_rate = 0.001\n",
    "batch_size = 64\n",
    "num_epochs = 60\n",
    "sequence_length = 1"
   ]
  },
  {
   "cell_type": "code",
   "execution_count": 51,
   "metadata": {},
   "outputs": [
    {
     "data": {
      "text/plain": [
       "device(type='cuda')"
      ]
     },
     "execution_count": 51,
     "metadata": {},
     "output_type": "execute_result"
    }
   ],
   "source": [
    "device = torch.device('cuda' if torch.cuda.is_available() else 'cpu')\n",
    "device"
   ]
  },
  {
   "cell_type": "code",
   "execution_count": 52,
   "metadata": {},
   "outputs": [],
   "source": [
    "train_data = TensorDataset(torch.from_numpy(x), torch.from_numpy(y))"
   ]
  },
  {
   "cell_type": "code",
   "execution_count": 53,
   "metadata": {},
   "outputs": [],
   "source": [
    "train_loader = DataLoader(dataset=train_data, batch_size=batch_size, shuffle = True)"
   ]
  },
  {
   "cell_type": "markdown",
   "metadata": {},
   "source": [
    "### Model instance and defining loss and optimizer"
   ]
  },
  {
   "cell_type": "code",
   "execution_count": 54,
   "metadata": {},
   "outputs": [],
   "source": [
    "model_instance = model.LSTM(input_size, hidden_size, num_layers, num_classes, sequence_length, vocab_size).to(device)"
   ]
  },
  {
   "cell_type": "code",
   "execution_count": 55,
   "metadata": {},
   "outputs": [],
   "source": [
    "loss = torch.nn.CrossEntropyLoss()\n",
    "optimizer = torch.optim.Adam(model_instance.parameters(), lr = learning_rate, weight_decay=1e-5)"
   ]
  },
  {
   "cell_type": "markdown",
   "metadata": {},
   "source": [
    "### Training the model"
   ]
  },
  {
   "cell_type": "code",
   "execution_count": 56,
   "metadata": {},
   "outputs": [
    {
     "name": "stdout",
     "output_type": "stream",
     "text": [
      "Training for epoch :- 1/60\n",
      "Loss : 6.073537945450095\n",
      "Accuracy :- 7.929567016749307\n",
      "Training for epoch :- 2/60\n",
      "Loss : 5.530752943043697\n",
      "Accuracy :- 9.760668410572757\n",
      "Training for epoch :- 3/60\n",
      "Loss : 4.989616084871744\n",
      "Accuracy :- 11.607386873853121\n",
      "Training for epoch :- 4/60\n",
      "Loss : 4.423710452648172\n",
      "Accuracy :- 14.984578143911294\n",
      "Training for epoch :- 5/60\n",
      "Loss : 3.8843789885466236\n",
      "Accuracy :- 22.246515441377426\n",
      "Training for epoch :- 6/60\n",
      "Loss : 3.3812775558367036\n",
      "Accuracy :- 30.769531097489555\n",
      "Training for epoch :- 7/60\n",
      "Loss : 2.9462942262540137\n",
      "Accuracy :- 38.65224690586812\n",
      "Training for epoch :- 8/60\n",
      "Loss : 2.5738880557015054\n",
      "Accuracy :- 45.16846913676649\n",
      "Training for epoch :- 9/60\n",
      "Loss : 2.285377708456463\n",
      "Accuracy :- 51.25522195759966\n",
      "Training for epoch :- 10/60\n",
      "Loss : 2.0463359647260937\n",
      "Accuracy :- 56.49474876039511\n",
      "Training for epoch :- 11/60\n",
      "Loss : 1.8418939601156183\n",
      "Accuracy :- 60.3170265099754\n",
      "Training for epoch :- 12/60\n",
      "Loss : 1.6658700749166588\n",
      "Accuracy :- 64.11587865537032\n",
      "Training for epoch :- 13/60\n",
      "Loss : 1.5296129160688405\n",
      "Accuracy :- 67.28614375512436\n",
      "Training for epoch :- 14/60\n",
      "Loss : 1.4097436550549438\n",
      "Accuracy :- 69.90981142388631\n",
      "Training for epoch :- 15/60\n",
      "Loss : 1.314375476646899\n",
      "Accuracy :- 71.60426345996174\n",
      "Training for epoch :- 16/60\n",
      "Loss : 1.2349475385839506\n",
      "Accuracy :- 73.08398079100456\n",
      "Training for epoch :- 17/60\n",
      "Loss : 1.1625268995910512\n",
      "Accuracy :- 74.74719868816616\n",
      "Training for epoch :- 18/60\n",
      "Loss : 1.1018820464462413\n",
      "Accuracy :- 76.20349041502362\n",
      "Training for epoch :- 19/60\n",
      "Loss : 1.055288578060797\n",
      "Accuracy :- 77.18346152344513\n",
      "Training for epoch :- 20/60\n",
      "Loss : 1.0176138873409453\n",
      "Accuracy :- 77.96431499629095\n",
      "Training for epoch :- 21/60\n",
      "Loss : 0.9773849176052503\n",
      "Accuracy :- 78.7217428649514\n",
      "Training for epoch :- 22/60\n",
      "Loss : 0.95522141374852\n",
      "Accuracy :- 79.15902080974504\n",
      "Training for epoch :- 23/60\n",
      "Loss : 0.9289572588969347\n",
      "Accuracy :- 79.70952250810136\n",
      "Training for epoch :- 24/60\n",
      "Loss : 0.90535669084499\n",
      "Accuracy :- 80.07261937297466\n",
      "Training for epoch :- 25/60\n",
      "Loss : 0.8968729146400889\n",
      "Accuracy :- 80.13899191816655\n",
      "Training for epoch :- 26/60\n",
      "Loss : 0.8816750304508685\n",
      "Accuracy :- 80.44352477257642\n",
      "Training for epoch :- 27/60\n",
      "Loss : 0.8548638998273007\n",
      "Accuracy :- 80.86518564791318\n",
      "Training for epoch :- 28/60\n",
      "Loss : 0.8572231609922395\n",
      "Accuracy :- 80.97060086674736\n",
      "Training for epoch :- 29/60\n",
      "Loss : 0.8381937790541281\n",
      "Accuracy :- 81.17362276968727\n",
      "Training for epoch :- 30/60\n",
      "Loss : 0.8251368806249185\n",
      "Accuracy :- 81.53281536719635\n",
      "Training for epoch :- 31/60\n",
      "Loss : 0.8227351909117806\n",
      "Accuracy :- 81.62651778393784\n",
      "Training for epoch :- 32/60\n",
      "Loss : 0.8101202062983762\n",
      "Accuracy :- 81.99351891617538\n",
      "Training for epoch :- 33/60\n",
      "Loss : 0.8001828282105358\n",
      "Accuracy :- 81.76316714168587\n",
      "Training for epoch :- 34/60\n",
      "Loss : 0.8065202722971576\n",
      "Accuracy :- 81.88419942997697\n",
      "Training for epoch :- 35/60\n",
      "Loss : 0.8021406148585892\n",
      "Accuracy :- 81.80611408269239\n",
      "Training for epoch :- 36/60\n",
      "Loss : 0.7938651691499791\n",
      "Accuracy :- 82.0637957287315\n",
      "Training for epoch :- 37/60\n",
      "Loss : 0.7832568704784659\n",
      "Accuracy :- 82.48155233670403\n",
      "Training for epoch :- 38/60\n",
      "Loss : 0.7817054607921705\n",
      "Accuracy :- 82.39956272205521\n",
      "Training for epoch :- 39/60\n",
      "Loss : 0.7794467757764897\n",
      "Accuracy :- 82.40737125678366\n",
      "Training for epoch :- 40/60\n",
      "Loss : 0.7750603564436597\n",
      "Accuracy :- 82.4268925936048\n",
      "Training for epoch :- 41/60\n",
      "Loss : 0.7722838441481317\n",
      "Accuracy :- 82.41517979151213\n",
      "Training for epoch :- 42/60\n",
      "Loss : 0.7617494140628568\n",
      "Accuracy :- 82.64162729863742\n",
      "Training for epoch :- 43/60\n",
      "Loss : 0.7612942483582699\n",
      "Accuracy :- 82.88759614258385\n",
      "Training for epoch :- 44/60\n",
      "Loss : 0.7586312862554393\n",
      "Accuracy :- 82.89150040994807\n",
      "Training for epoch :- 45/60\n",
      "Loss : 0.7616265740923751\n",
      "Accuracy :- 82.6806699722797\n",
      "Training for epoch :- 46/60\n",
      "Loss : 0.7532934478096237\n",
      "Accuracy :- 82.83293639948464\n",
      "Training for epoch :- 47/60\n",
      "Loss : 0.7464430632808262\n",
      "Accuracy :- 82.95396868777574\n",
      "Training for epoch :- 48/60\n",
      "Loss : 0.7467090348130152\n",
      "Accuracy :- 83.16089485807989\n",
      "Training for epoch :- 49/60\n",
      "Loss : 0.7414634811907932\n",
      "Accuracy :- 83.20774606645062\n",
      "Training for epoch :- 50/60\n",
      "Loss : 0.743928050162489\n",
      "Accuracy :- 82.84855346894156\n",
      "Training for epoch :- 51/60\n",
      "Loss : 0.7381550026058853\n",
      "Accuracy :- 82.9617772225042\n",
      "Training for epoch :- 52/60\n",
      "Loss : 0.7412019364182788\n",
      "Accuracy :- 83.00081989614648\n",
      "Training for epoch :- 53/60\n",
      "Loss : 0.7352540998387516\n",
      "Accuracy :- 83.22726740327178\n",
      "Training for epoch :- 54/60\n",
      "Loss : 0.7333861945424591\n",
      "Accuracy :- 83.06719244133838\n",
      "Training for epoch :- 55/60\n",
      "Loss : 0.731935241275892\n",
      "Accuracy :- 83.16870339280834\n",
      "Training for epoch :- 56/60\n",
      "Loss : 0.7307230336707726\n",
      "Accuracy :- 83.0828095107953\n",
      "Training for epoch :- 57/60\n",
      "Loss : 0.7273887530377976\n",
      "Accuracy :- 83.08671377815952\n",
      "Training for epoch :- 58/60\n",
      "Loss : 0.729873264240951\n",
      "Accuracy :- 83.02424550033186\n",
      "Training for epoch :- 59/60\n",
      "Loss : 0.7276425024220474\n",
      "Accuracy :- 83.13746925389451\n",
      "Training for epoch :- 60/60\n",
      "Loss : 0.72320980963267\n",
      "Accuracy :- 83.34049115683442\n"
     ]
    }
   ],
   "source": [
    "train_acc = []\n",
    "\n",
    "for epoch in range(num_epochs):\n",
    "\n",
    "    train_losses = []\n",
    "\n",
    "    print(f\"Training for epoch :- {epoch+1}/{num_epochs}\")\n",
    "    for batch_idx, (data, targets) in enumerate(train_loader):\n",
    "        \n",
    "        data = data.to(device)\n",
    "        targets = targets.to(device).long()\n",
    "\n",
    "        scores = model_instance(data)\n",
    "        loss_value = loss(scores, targets)\n",
    "\n",
    "        optimizer.zero_grad()\n",
    "        loss_value.backward()\n",
    "\n",
    "        optimizer.step()\n",
    "\n",
    "    num_correct = num_samples = 0\n",
    "\n",
    "    for batch_idx, (data, targets) in enumerate(train_loader):\n",
    "        \n",
    "        data = data.to(device)\n",
    "        targets = targets.to(device).long()\n",
    "\n",
    "        scores = model_instance(data)\n",
    "        loss_value = loss(scores, targets)\n",
    "        _, predictions = scores.max(1)\n",
    "\n",
    "        num_correct += (predictions == targets).sum()\n",
    "        num_samples += predictions.size(0)\n",
    "        \n",
    "        train_losses.append(loss_value.item())\n",
    "    print(f\"Loss : {np.mean(train_losses)}\")\n",
    "\n",
    "    train_acc.append(float(num_correct)/float(num_samples)*100)\n",
    "\n",
    "    print(f\"Accuracy :- {float(num_correct)/float(num_samples)*100}\")"
   ]
  },
  {
   "cell_type": "markdown",
   "metadata": {},
   "source": [
    "### Graph for Accuracy vs Epochs"
   ]
  },
  {
   "cell_type": "code",
   "execution_count": 57,
   "metadata": {},
   "outputs": [
    {
     "data": {
      "image/png": "[encoded data removed]",
      "text/plain": [
       "<Figure size 640x480 with 1 Axes>"
      ]
     },
     "metadata": {},
     "output_type": "display_data"
    }
   ],
   "source": [
    "plt.plot(range(1, num_epochs+1), train_acc)\n",
    "plt.xlabel(\"Epochs\")\n",
    "plt.ylabel(\"Accuracy\")\n",
    "plt.title(\"Accuracy vs Epochs\")\n",
    "plt.show()"
   ]
  },
  {
   "cell_type": "markdown",
   "metadata": {},
   "source": [
    "### Defining function for prediction"
   ]
  },
  {
   "cell_type": "code",
   "execution_count": 62,
   "metadata": {},
   "outputs": [],
   "source": [
    "def prediction(sentence, num_words):\n",
    "    for i in range(num_words):\n",
    "        final_sentence = sentence\n",
    "        sentence = ''.join(c.lower() for c in sentence if c not in punctuation)\n",
    "        sentence_split = sentence.split(' ')\n",
    "        sentence_split = [word for word in sentence_split if word != '']\n",
    "        sentence_tokenized = []\n",
    "        for word in sentence_split:\n",
    "            sentence_tokenized.append(tokenized_text[word])\n",
    "        sentence_padded = np.zeros(features-1, dtype=int)\n",
    "        sentence_padded[features-len(sentence_tokenized)-1:] = np.array(sentence_tokenized)\n",
    "        test = torch.Tensor(sentence_padded).unsqueeze(0).to(int)\n",
    "        test = test.to(device)\n",
    "        scores = model_instance(test)\n",
    "        _, pred = scores.max(1)\n",
    "        for word, token in tokenized_text.items():\n",
    "            if token == pred:\n",
    "                final_sentence += ' '\n",
    "                final_sentence += word\n",
    "                sentence = final_sentence\n",
    "                break\n",
    "    return sentence"
   ]
  },
  {
   "cell_type": "markdown",
   "metadata": {},
   "source": [
    "### Predicting for single sentences"
   ]
  },
  {
   "cell_type": "code",
   "execution_count": 63,
   "metadata": {},
   "outputs": [
    {
     "name": "stdout",
     "output_type": "stream",
     "text": [
      "you come most carefully\n"
     ]
    }
   ],
   "source": [
    "sentence = \"you come most\"\n",
    "num_words = 1\n",
    "pred = prediction(sentence, num_words)\n",
    "print(pred)"
   ]
  },
  {
   "cell_type": "code",
   "execution_count": 64,
   "metadata": {},
   "outputs": [
    {
     "name": "stdout",
     "output_type": "stream",
     "text": [
      "god blesse you sir\n"
     ]
    }
   ],
   "source": [
    "sentence = \"god blesse\"\n",
    "num_words = 2\n",
    "pred = prediction(sentence, num_words)\n",
    "print(pred)"
   ]
  },
  {
   "cell_type": "code",
   "execution_count": 65,
   "metadata": {},
   "outputs": [
    {
     "name": "stdout",
     "output_type": "stream",
     "text": [
      "The Tragedie of Hamlet by william shakespeare 1599\n"
     ]
    }
   ],
   "source": [
    "sentence = \"The Tragedie of Hamlet\"\n",
    "num_words = 4\n",
    "pred = prediction(sentence, num_words)\n",
    "print(pred)"
   ]
  }
 ],
 "metadata": {
  "kernelspec": {
   "display_name": "ai",
   "language": "python",
   "name": "python3"
  },
  "language_info": {
   "codemirror_mode": {
    "name": "ipython",
    "version": 3
   },
   "file_extension": ".py",
   "mimetype": "text/x-python",
   "name": "python",
   "nbconvert_exporter": "python",
   "pygments_lexer": "ipython3",
   "version": "3.12.8"
  }
 },
 "nbformat": 4,
 "nbformat_minor": 2
}
